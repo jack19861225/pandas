{
 "metadata": {
  "name": "6_data_transformation"
 },
 "nbformat": 3,
 "nbformat_minor": 0,
 "worksheets": [
  {
   "cells": [
    {
     "cell_type": "markdown",
     "metadata": {},
     "source": [
      "### Data Transformation\n",
      "Much of the work in data analysis and modeling is spent on data preparation: loading, cleaning, transforming, rearranging.\n",
      "\n",
      "Most of the times data stores in files/databases is not in the format in which your application needs the data.\n",
      "\n",
      "Pandas provides you with high-level, flexible and high-performance set of core manipulations and algorithms to enable you to wrangle data into the right form."
     ]
    },
    {
     "cell_type": "code",
     "collapsed": false,
     "input": [],
     "language": "python",
     "metadata": {},
     "outputs": []
    }
   ],
   "metadata": {}
  }
 ]
}