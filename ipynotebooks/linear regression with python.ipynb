{
 "metadata": {
  "name": "",
  "signature": "sha256:2f2b414025cb8678eeacae09e3d5362309297228c7f99330f5b953c5dcd92ec0"
 },
 "nbformat": 3,
 "nbformat_minor": 0,
 "worksheets": [
  {
   "cells": [
    {
     "cell_type": "code",
     "collapsed": false,
     "input": [
      "import numpy as np\n",
      "import pandas\n",
      "from pandas import DataFrame, Series\n",
      "import statsmodels.formula.api as sm\n",
      "from sklearn.linear_model import LinearRegression\n",
      "import scipy, scipy.stats"
     ],
     "language": "python",
     "metadata": {},
     "outputs": [],
     "prompt_number": 1
    },
    {
     "cell_type": "code",
     "collapsed": false,
     "input": [
      "df = pandas.DataFrame({'Region': ['North', 'Yorkshire', 'Northeast', 'East Midlands', 'West Midlands', \n",
      "                             'East Anglia', 'Southeast', 'Southeast', 'Wales', 'Scotland', 'Northern Ireland'], \n",
      "                  'Alcohol': [6.47, 6.13, 6.19, 4.89, 5.63, 4.52, 5.89, 4.79, 5.27, 6.08, 4.02], \n",
      "                  'Tobacco': [4.03, 3.76, 3.77, 3.34, 3.47, 2.92, 3.2, 2.71, 3.53, 4.51, 4.56]})"
     ],
     "language": "python",
     "metadata": {},
     "outputs": [],
     "prompt_number": 30
    },
    {
     "cell_type": "code",
     "collapsed": false,
     "input": [
      "df"
     ],
     "language": "python",
     "metadata": {},
     "outputs": [
      {
       "html": [
        "<div style=\"max-height:1000px;max-width:1500px;overflow:auto;\">\n",
        "<table border=\"1\" class=\"dataframe\">\n",
        "  <thead>\n",
        "    <tr style=\"text-align: right;\">\n",
        "      <th></th>\n",
        "      <th>Alcohol</th>\n",
        "      <th>Region</th>\n",
        "      <th>Tobacco</th>\n",
        "    </tr>\n",
        "  </thead>\n",
        "  <tbody>\n",
        "    <tr>\n",
        "      <th>0 </th>\n",
        "      <td> 6.47</td>\n",
        "      <td>            North</td>\n",
        "      <td> 4.03</td>\n",
        "    </tr>\n",
        "    <tr>\n",
        "      <th>1 </th>\n",
        "      <td> 6.13</td>\n",
        "      <td>        Yorkshire</td>\n",
        "      <td> 3.76</td>\n",
        "    </tr>\n",
        "    <tr>\n",
        "      <th>2 </th>\n",
        "      <td> 6.19</td>\n",
        "      <td>        Northeast</td>\n",
        "      <td> 3.77</td>\n",
        "    </tr>\n",
        "    <tr>\n",
        "      <th>3 </th>\n",
        "      <td> 4.89</td>\n",
        "      <td>    East Midlands</td>\n",
        "      <td> 3.34</td>\n",
        "    </tr>\n",
        "    <tr>\n",
        "      <th>4 </th>\n",
        "      <td> 5.63</td>\n",
        "      <td>    West Midlands</td>\n",
        "      <td> 3.47</td>\n",
        "    </tr>\n",
        "    <tr>\n",
        "      <th>5 </th>\n",
        "      <td> 4.52</td>\n",
        "      <td>      East Anglia</td>\n",
        "      <td> 2.92</td>\n",
        "    </tr>\n",
        "    <tr>\n",
        "      <th>6 </th>\n",
        "      <td> 5.89</td>\n",
        "      <td>        Southeast</td>\n",
        "      <td> 3.20</td>\n",
        "    </tr>\n",
        "    <tr>\n",
        "      <th>7 </th>\n",
        "      <td> 4.79</td>\n",
        "      <td>        Southeast</td>\n",
        "      <td> 2.71</td>\n",
        "    </tr>\n",
        "    <tr>\n",
        "      <th>8 </th>\n",
        "      <td> 5.27</td>\n",
        "      <td>            Wales</td>\n",
        "      <td> 3.53</td>\n",
        "    </tr>\n",
        "    <tr>\n",
        "      <th>9 </th>\n",
        "      <td> 6.08</td>\n",
        "      <td>         Scotland</td>\n",
        "      <td> 4.51</td>\n",
        "    </tr>\n",
        "    <tr>\n",
        "      <th>10</th>\n",
        "      <td> 4.02</td>\n",
        "      <td> Northern Ireland</td>\n",
        "      <td> 4.56</td>\n",
        "    </tr>\n",
        "  </tbody>\n",
        "</table>\n",
        "<p>11 rows \u00d7 3 columns</p>\n",
        "</div>"
       ],
       "metadata": {},
       "output_type": "pyout",
       "prompt_number": 31,
       "text": [
        "    Alcohol            Region  Tobacco\n",
        "0      6.47             North     4.03\n",
        "1      6.13         Yorkshire     3.76\n",
        "2      6.19         Northeast     3.77\n",
        "3      4.89     East Midlands     3.34\n",
        "4      5.63     West Midlands     3.47\n",
        "5      4.52       East Anglia     2.92\n",
        "6      5.89         Southeast     3.20\n",
        "7      4.79         Southeast     2.71\n",
        "8      5.27             Wales     3.53\n",
        "9      6.08          Scotland     4.51\n",
        "10     4.02  Northern Ireland     4.56\n",
        "\n",
        "[11 rows x 3 columns]"
       ]
      }
     ],
     "prompt_number": 31
    },
    {
     "cell_type": "markdown",
     "metadata": {},
     "source": [
      "### Regression Using Pandas and Statsmodels"
     ]
    },
    {
     "cell_type": "code",
     "collapsed": false,
     "input": [
      "df['Eins'] = np.ones(( len(df), ))\n",
      "Y = df.Alcohol[:-1]\n",
      "X = df[['Tobacco','Eins']][:-1]\n",
      "result = sm.OLS( Y, X ).fit()\n",
      "result.summary()"
     ],
     "language": "python",
     "metadata": {},
     "outputs": [
      {
       "output_type": "stream",
       "stream": "stderr",
       "text": [
        "//anaconda/lib/python2.7/site-packages/scipy/stats/stats.py:1293: UserWarning: kurtosistest only valid for n>=20 ... continuing anyway, n=10\n",
        "  int(n))\n"
       ]
      },
      {
       "html": [
        "<table class=\"simpletable\">\n",
        "<caption>OLS Regression Results</caption>\n",
        "<tr>\n",
        "  <th>Dep. Variable:</th>         <td>Alcohol</td>     <th>  R-squared:         </th> <td>   0.615</td>\n",
        "</tr>\n",
        "<tr>\n",
        "  <th>Model:</th>                   <td>OLS</td>       <th>  Adj. R-squared:    </th> <td>   0.567</td>\n",
        "</tr>\n",
        "<tr>\n",
        "  <th>Method:</th>             <td>Least Squares</td>  <th>  F-statistic:       </th> <td>   12.78</td>\n",
        "</tr>\n",
        "<tr>\n",
        "  <th>Date:</th>             <td>Fri, 06 Jun 2014</td> <th>  Prob (F-statistic):</th>  <td>0.00723</td>\n",
        "</tr>\n",
        "<tr>\n",
        "  <th>Time:</th>                 <td>01:02:09</td>     <th>  Log-Likelihood:    </th> <td> -4.9998</td>\n",
        "</tr>\n",
        "<tr>\n",
        "  <th>No. Observations:</th>      <td>    10</td>      <th>  AIC:               </th> <td>   14.00</td>\n",
        "</tr>\n",
        "<tr>\n",
        "  <th>Df Residuals:</th>          <td>     8</td>      <th>  BIC:               </th> <td>   14.60</td>\n",
        "</tr>\n",
        "<tr>\n",
        "  <th>Df Model:</th>              <td>     1</td>      <th>                     </th>     <td> </td>   \n",
        "</tr>\n",
        "</table>\n",
        "<table class=\"simpletable\">\n",
        "<tr>\n",
        "     <td></td>        <th>coef</th>     <th>std err</th>      <th>t</th>      <th>P>|t|</th> <th>[95.0% Conf. Int.]</th> \n",
        "</tr>\n",
        "<tr>\n",
        "  <th>Tobacco</th> <td>    1.0059</td> <td>    0.281</td> <td>    3.576</td> <td> 0.007</td> <td>    0.357     1.655</td>\n",
        "</tr>\n",
        "<tr>\n",
        "  <th>Eins</th>    <td>    2.0412</td> <td>    1.001</td> <td>    2.038</td> <td> 0.076</td> <td>   -0.268     4.350</td>\n",
        "</tr>\n",
        "</table>\n",
        "<table class=\"simpletable\">\n",
        "<tr>\n",
        "  <th>Omnibus:</th>       <td> 2.542</td> <th>  Durbin-Watson:     </th> <td>   1.975</td>\n",
        "</tr>\n",
        "<tr>\n",
        "  <th>Prob(Omnibus):</th> <td> 0.281</td> <th>  Jarque-Bera (JB):  </th> <td>   0.904</td>\n",
        "</tr>\n",
        "<tr>\n",
        "  <th>Skew:</th>          <td>-0.014</td> <th>  Prob(JB):          </th> <td>   0.636</td>\n",
        "</tr>\n",
        "<tr>\n",
        "  <th>Kurtosis:</th>      <td> 1.527</td> <th>  Cond. No.          </th> <td>    27.2</td>\n",
        "</tr>\n",
        "</table>"
       ],
       "metadata": {},
       "output_type": "pyout",
       "prompt_number": 33,
       "text": [
        "<class 'statsmodels.iolib.summary.Summary'>\n",
        "\"\"\"\n",
        "                            OLS Regression Results                            \n",
        "==============================================================================\n",
        "Dep. Variable:                Alcohol   R-squared:                       0.615\n",
        "Model:                            OLS   Adj. R-squared:                  0.567\n",
        "Method:                 Least Squares   F-statistic:                     12.78\n",
        "Date:                Fri, 06 Jun 2014   Prob (F-statistic):            0.00723\n",
        "Time:                        01:02:09   Log-Likelihood:                -4.9998\n",
        "No. Observations:                  10   AIC:                             14.00\n",
        "Df Residuals:                       8   BIC:                             14.60\n",
        "Df Model:                           1                                         \n",
        "==============================================================================\n",
        "                 coef    std err          t      P>|t|      [95.0% Conf. Int.]\n",
        "------------------------------------------------------------------------------\n",
        "Tobacco        1.0059      0.281      3.576      0.007         0.357     1.655\n",
        "Eins           2.0412      1.001      2.038      0.076        -0.268     4.350\n",
        "==============================================================================\n",
        "Omnibus:                        2.542   Durbin-Watson:                   1.975\n",
        "Prob(Omnibus):                  0.281   Jarque-Bera (JB):                0.904\n",
        "Skew:                          -0.014   Prob(JB):                        0.636\n",
        "Kurtosis:                       1.527   Cond. No.                         27.2\n",
        "==============================================================================\n",
        "\"\"\""
       ]
      }
     ],
     "prompt_number": 33
    },
    {
     "cell_type": "code",
     "collapsed": false,
     "input": [
      "N = result.nobs\n",
      "P = result.df_model\n",
      "dfn, dfd = P, N - P - 1\n",
      "F = result.mse_model / result.mse_resid\n",
      "p = 1.0 - scipy.stats.f.cdf(F,dfn,dfd)\n",
      "print 'F-statistic: {:.3f},  p-value: {:.5f}'.format( F, p )\n"
     ],
     "language": "python",
     "metadata": {},
     "outputs": [
      {
       "output_type": "stream",
       "stream": "stdout",
       "text": [
        "F-statistic: 12.785,  p-value: 0.00723\n"
       ]
      }
     ],
     "prompt_number": 34
    },
    {
     "cell_type": "code",
     "collapsed": false,
     "input": [
      "X = df.Tobacco[:-1]\n",
      " \n",
      "# add a column of ones for the constant intercept term\n",
      "X = np.vstack(( X, np.ones( X.size ) ))\n",
      " \n",
      "# convert the NumPy arrray to matrix\n",
      "X = np.matrix( X )\n",
      " \n",
      "# perform the matrix multiplication,\n",
      "# and then take the inverse\n",
      "C = np.linalg.inv( X * X.T )\n",
      " \n",
      "# multiply by the MSE of the residual\n",
      "C *= result.mse_resid\n",
      " \n",
      "# take the square root\n",
      "SE = np.sqrt(C)\n",
      " \n",
      "print SE"
     ],
     "language": "python",
     "metadata": {},
     "outputs": [
      {
       "output_type": "stream",
       "stream": "stdout",
       "text": [
        "[[ 0.28132158         nan]\n",
        " [        nan  1.00136021]]\n"
       ]
      }
     ],
     "prompt_number": 35
    },
    {
     "cell_type": "code",
     "collapsed": false,
     "input": [],
     "language": "python",
     "metadata": {},
     "outputs": []
    }
   ],
   "metadata": {}
  }
 ]
}