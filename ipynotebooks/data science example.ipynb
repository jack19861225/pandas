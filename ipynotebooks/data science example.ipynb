{
 "metadata": {
  "name": "",
  "signature": "sha256:e44fb810435f5c51795d19d83d589d9f903862928c0cdfc73ec3d5f4b928e513"
 },
 "nbformat": 3,
 "nbformat_minor": 0,
 "worksheets": [
  {
   "cells": [
    {
     "cell_type": "markdown",
     "metadata": {},
     "source": [
      "## Introduction to data science example\n",
      "http://nbviewer.ipython.org/url/www.asimihsan.com/articles/Intro%20to%20Data%20Science%20-%20Final%20Project.ipynb\n",
      "\n",
      "http://nbviewer.ipython.org/gist/twiecki/3962843\n",
      "\n",
      "http://nbviewer.ipython.org/github/koldunovn/nk_public_notebooks/blob/master/Apache_log.ipynb"
     ]
    },
    {
     "cell_type": "code",
     "collapsed": false,
     "input": [],
     "language": "python",
     "metadata": {},
     "outputs": []
    }
   ],
   "metadata": {}
  }
 ]
}