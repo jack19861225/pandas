{
 "metadata": {
  "name": "",
  "signature": "sha256:6816edf98f4e31f7801e992e48d634acc445d7762dcfda46253ede768ce91ae3"
 },
 "nbformat": 3,
 "nbformat_minor": 0,
 "worksheets": [
  {
   "cells": [
    {
     "cell_type": "code",
     "collapsed": false,
     "input": [
      "import numpy as np\n",
      "import pandas as pd\n",
      "from pandas import DataFrame, Series\n",
      "import statsmodels.formula.api as sm\n",
      "from sklearn.linear_model import LinearRegression\n",
      "import scipy, scipy.stats"
     ],
     "language": "python",
     "metadata": {},
     "outputs": [],
     "prompt_number": 23
    },
    {
     "cell_type": "code",
     "collapsed": false,
     "input": [
      "df = pd.read_table('linear_regression.txt', sep='\\t')"
     ],
     "language": "python",
     "metadata": {},
     "outputs": [],
     "prompt_number": 17
    },
    {
     "cell_type": "code",
     "collapsed": false,
     "input": [
      "df"
     ],
     "language": "python",
     "metadata": {},
     "outputs": [
      {
       "html": [
        "<div style=\"max-height:1000px;max-width:1500px;overflow:auto;\">\n",
        "<table border=\"1\" class=\"dataframe\">\n",
        "  <thead>\n",
        "    <tr style=\"text-align: right;\">\n",
        "      <th></th>\n",
        "      <th>Qtr</th>\n",
        "      <th>Reviews</th>\n",
        "      <th>TotalSales</th>\n",
        "    </tr>\n",
        "  </thead>\n",
        "  <tbody>\n",
        "    <tr>\n",
        "      <th>0 </th>\n",
        "      <td> 3Q08</td>\n",
        "      <td>  460</td>\n",
        "      <td> 676.830</td>\n",
        "    </tr>\n",
        "    <tr>\n",
        "      <th>1 </th>\n",
        "      <td> 4Q08</td>\n",
        "      <td>  599</td>\n",
        "      <td> 672.228</td>\n",
        "    </tr>\n",
        "    <tr>\n",
        "      <th>2 </th>\n",
        "      <td> 1Q09</td>\n",
        "      <td>  897</td>\n",
        "      <td> 645.576</td>\n",
        "    </tr>\n",
        "    <tr>\n",
        "      <th>3 </th>\n",
        "      <td> 2Q09</td>\n",
        "      <td> 1142</td>\n",
        "      <td> 641.511</td>\n",
        "    </tr>\n",
        "    <tr>\n",
        "      <th>4 </th>\n",
        "      <td> 3Q09</td>\n",
        "      <td> 1140</td>\n",
        "      <td> 673.337</td>\n",
        "    </tr>\n",
        "    <tr>\n",
        "      <th>5 </th>\n",
        "      <td> 4Q09</td>\n",
        "      <td>  910</td>\n",
        "      <td> 676.176</td>\n",
        "    </tr>\n",
        "    <tr>\n",
        "      <th>6 </th>\n",
        "      <td> 1Q10</td>\n",
        "      <td>  852</td>\n",
        "      <td> 704.851</td>\n",
        "    </tr>\n",
        "    <tr>\n",
        "      <th>7 </th>\n",
        "      <td> 2Q10</td>\n",
        "      <td> 1032</td>\n",
        "      <td> 721.467</td>\n",
        "    </tr>\n",
        "    <tr>\n",
        "      <th>8 </th>\n",
        "      <td> 3Q10</td>\n",
        "      <td> 1181</td>\n",
        "      <td> 742.975</td>\n",
        "    </tr>\n",
        "    <tr>\n",
        "      <th>9 </th>\n",
        "      <td> 4Q10</td>\n",
        "      <td> 1330</td>\n",
        "      <td> 746.797</td>\n",
        "    </tr>\n",
        "    <tr>\n",
        "      <th>10</th>\n",
        "      <td> 1Q11</td>\n",
        "      <td> 1405</td>\n",
        "      <td> 793.564</td>\n",
        "    </tr>\n",
        "    <tr>\n",
        "      <th>11</th>\n",
        "      <td> 2Q11</td>\n",
        "      <td> 1390</td>\n",
        "      <td> 801.805</td>\n",
        "    </tr>\n",
        "    <tr>\n",
        "      <th>12</th>\n",
        "      <td> 3Q11</td>\n",
        "      <td> 1215</td>\n",
        "      <td> 836.576</td>\n",
        "    </tr>\n",
        "    <tr>\n",
        "      <th>13</th>\n",
        "      <td> 4Q11</td>\n",
        "      <td> 1069</td>\n",
        "      <td> 837.186</td>\n",
        "    </tr>\n",
        "    <tr>\n",
        "      <th>14</th>\n",
        "      <td> 1Q12</td>\n",
        "      <td>  973</td>\n",
        "      <td> 864.815</td>\n",
        "    </tr>\n",
        "    <tr>\n",
        "      <th>15</th>\n",
        "      <td> 2Q12</td>\n",
        "      <td> 1142</td>\n",
        "      <td> 889.281</td>\n",
        "    </tr>\n",
        "    <tr>\n",
        "      <th>16</th>\n",
        "      <td> 3Q12</td>\n",
        "      <td> 1133</td>\n",
        "      <td> 886.991</td>\n",
        "    </tr>\n",
        "    <tr>\n",
        "      <th>17</th>\n",
        "      <td> 4Q12</td>\n",
        "      <td> 1034</td>\n",
        "      <td> 882.557</td>\n",
        "    </tr>\n",
        "    <tr>\n",
        "      <th>18</th>\n",
        "      <td> 1Q13</td>\n",
        "      <td>  919</td>\n",
        "      <td> 905.441</td>\n",
        "    </tr>\n",
        "    <tr>\n",
        "      <th>19</th>\n",
        "      <td> 2Q13</td>\n",
        "      <td> 1073</td>\n",
        "      <td>     NaN</td>\n",
        "    </tr>\n",
        "  </tbody>\n",
        "</table>\n",
        "<p>20 rows \u00d7 3 columns</p>\n",
        "</div>"
       ],
       "metadata": {},
       "output_type": "pyout",
       "prompt_number": 18,
       "text": [
        "     Qtr  Reviews  TotalSales\n",
        "0   3Q08      460     676.830\n",
        "1   4Q08      599     672.228\n",
        "2   1Q09      897     645.576\n",
        "3   2Q09     1142     641.511\n",
        "4   3Q09     1140     673.337\n",
        "5   4Q09      910     676.176\n",
        "6   1Q10      852     704.851\n",
        "7   2Q10     1032     721.467\n",
        "8   3Q10     1181     742.975\n",
        "9   4Q10     1330     746.797\n",
        "10  1Q11     1405     793.564\n",
        "11  2Q11     1390     801.805\n",
        "12  3Q11     1215     836.576\n",
        "13  4Q11     1069     837.186\n",
        "14  1Q12      973     864.815\n",
        "15  2Q12     1142     889.281\n",
        "16  3Q12     1133     886.991\n",
        "17  4Q12     1034     882.557\n",
        "18  1Q13      919     905.441\n",
        "19  2Q13     1073         NaN\n",
        "\n",
        "[20 rows x 3 columns]"
       ]
      }
     ],
     "prompt_number": 18
    },
    {
     "cell_type": "code",
     "collapsed": false,
     "input": [
      "from scipy import stats"
     ],
     "language": "python",
     "metadata": {},
     "outputs": [],
     "prompt_number": 10
    },
    {
     "cell_type": "code",
     "collapsed": false,
     "input": [
      "df = df.dropna()"
     ],
     "language": "python",
     "metadata": {},
     "outputs": [],
     "prompt_number": 19
    },
    {
     "cell_type": "code",
     "collapsed": false,
     "input": [
      "slope, intercept, r_value, p_value, std_err = stats.linregress(df.Reviews, df.TotalSales)"
     ],
     "language": "python",
     "metadata": {},
     "outputs": [],
     "prompt_number": 21
    },
    {
     "cell_type": "code",
     "collapsed": false,
     "input": [
      "print slope, intercept, r_value, p_value, std_err"
     ],
     "language": "python",
     "metadata": {},
     "outputs": [
      {
       "output_type": "stream",
       "stream": "stdout",
       "text": [
        "0.132481226318 630.199402669 0.34575478209 0.147069698775 0.0871996873255\n"
       ]
      }
     ],
     "prompt_number": 22
    },
    {
     "cell_type": "code",
     "collapsed": false,
     "input": [
      "# slope * x variable + intercept\n",
      "result_lr = slope * 1073 + intercept"
     ],
     "language": "python",
     "metadata": {},
     "outputs": [],
     "prompt_number": 27
    },
    {
     "cell_type": "code",
     "collapsed": false,
     "input": [
      "result_lr"
     ],
     "language": "python",
     "metadata": {},
     "outputs": [
      {
       "metadata": {},
       "output_type": "pyout",
       "prompt_number": 28,
       "text": [
        "772.35175850753626"
       ]
      }
     ],
     "prompt_number": 28
    },
    {
     "cell_type": "code",
     "collapsed": false,
     "input": [
      "actual_value = 898.2"
     ],
     "language": "python",
     "metadata": {},
     "outputs": [],
     "prompt_number": 29
    },
    {
     "cell_type": "code",
     "collapsed": false,
     "input": [
      "err = (result_lr - actual_value)/ actual_value"
     ],
     "language": "python",
     "metadata": {},
     "outputs": [],
     "prompt_number": 31
    },
    {
     "cell_type": "code",
     "collapsed": false,
     "input": [
      "err"
     ],
     "language": "python",
     "metadata": {},
     "outputs": [
      {
       "metadata": {},
       "output_type": "pyout",
       "prompt_number": 32,
       "text": [
        "-0.14011160264135358"
       ]
      }
     ],
     "prompt_number": 32
    },
    {
     "cell_type": "code",
     "collapsed": false,
     "input": [
      "using_hw = 916.86"
     ],
     "language": "python",
     "metadata": {},
     "outputs": [],
     "prompt_number": 33
    },
    {
     "cell_type": "code",
     "collapsed": false,
     "input": [
      "(using_hw - actual_value)/ actual_value"
     ],
     "language": "python",
     "metadata": {},
     "outputs": [
      {
       "metadata": {},
       "output_type": "pyout",
       "prompt_number": 34,
       "text": [
        "0.020774883099532362"
       ]
      }
     ],
     "prompt_number": 34
    },
    {
     "cell_type": "code",
     "collapsed": false,
     "input": [
      "result = sm.OLS( df.Reviews, df.TotalSales ).fit()\n",
      "result.summary()"
     ],
     "language": "python",
     "metadata": {},
     "outputs": [
      {
       "html": [
        "<table class=\"simpletable\">\n",
        "<caption>OLS Regression Results</caption>\n",
        "<tr>\n",
        "  <th>Dep. Variable:</th>         <td>Reviews</td>     <th>  R-squared:         </th> <td>   0.956</td>\n",
        "</tr>\n",
        "<tr>\n",
        "  <th>Model:</th>                   <td>OLS</td>       <th>  Adj. R-squared:    </th> <td>   0.953</td>\n",
        "</tr>\n",
        "<tr>\n",
        "  <th>Method:</th>             <td>Least Squares</td>  <th>  F-statistic:       </th> <td>   390.0</td>\n",
        "</tr>\n",
        "<tr>\n",
        "  <th>Date:</th>             <td>Fri, 06 Jun 2014</td> <th>  Prob (F-statistic):</th> <td>1.20e-13</td>\n",
        "</tr>\n",
        "<tr>\n",
        "  <th>Time:</th>                 <td>23:09:08</td>     <th>  Log-Likelihood:    </th> <td> -129.84</td>\n",
        "</tr>\n",
        "<tr>\n",
        "  <th>No. Observations:</th>      <td>    19</td>      <th>  AIC:               </th> <td>   261.7</td>\n",
        "</tr>\n",
        "<tr>\n",
        "  <th>Df Residuals:</th>          <td>    18</td>      <th>  BIC:               </th> <td>   262.6</td>\n",
        "</tr>\n",
        "<tr>\n",
        "  <th>Df Model:</th>              <td>     1</td>      <th>                     </th>     <td> </td>   \n",
        "</tr>\n",
        "</table>\n",
        "<table class=\"simpletable\">\n",
        "<tr>\n",
        "       <td></td>         <th>coef</th>     <th>std err</th>      <th>t</th>      <th>P>|t|</th> <th>[95.0% Conf. Int.]</th> \n",
        "</tr>\n",
        "<tr>\n",
        "  <th>TotalSales</th> <td>    1.3516</td> <td>    0.068</td> <td>   19.748</td> <td> 0.000</td> <td>    1.208     1.495</td>\n",
        "</tr>\n",
        "</table>\n",
        "<table class=\"simpletable\">\n",
        "<tr>\n",
        "  <th>Omnibus:</th>       <td> 0.660</td> <th>  Durbin-Watson:     </th> <td>   0.479</td>\n",
        "</tr>\n",
        "<tr>\n",
        "  <th>Prob(Omnibus):</th> <td> 0.719</td> <th>  Jarque-Bera (JB):  </th> <td>   0.670</td>\n",
        "</tr>\n",
        "<tr>\n",
        "  <th>Skew:</th>          <td>-0.192</td> <th>  Prob(JB):          </th> <td>   0.715</td>\n",
        "</tr>\n",
        "<tr>\n",
        "  <th>Kurtosis:</th>      <td> 2.164</td> <th>  Cond. No.          </th> <td>    1.00</td>\n",
        "</tr>\n",
        "</table>"
       ],
       "metadata": {},
       "output_type": "pyout",
       "prompt_number": 35,
       "text": [
        "<class 'statsmodels.iolib.summary.Summary'>\n",
        "\"\"\"\n",
        "                            OLS Regression Results                            \n",
        "==============================================================================\n",
        "Dep. Variable:                Reviews   R-squared:                       0.956\n",
        "Model:                            OLS   Adj. R-squared:                  0.953\n",
        "Method:                 Least Squares   F-statistic:                     390.0\n",
        "Date:                Fri, 06 Jun 2014   Prob (F-statistic):           1.20e-13\n",
        "Time:                        23:09:08   Log-Likelihood:                -129.84\n",
        "No. Observations:                  19   AIC:                             261.7\n",
        "Df Residuals:                      18   BIC:                             262.6\n",
        "Df Model:                           1                                         \n",
        "==============================================================================\n",
        "                 coef    std err          t      P>|t|      [95.0% Conf. Int.]\n",
        "------------------------------------------------------------------------------\n",
        "TotalSales     1.3516      0.068     19.748      0.000         1.208     1.495\n",
        "==============================================================================\n",
        "Omnibus:                        0.660   Durbin-Watson:                   0.479\n",
        "Prob(Omnibus):                  0.719   Jarque-Bera (JB):                0.670\n",
        "Skew:                          -0.192   Prob(JB):                        0.715\n",
        "Kurtosis:                       2.164   Cond. No.                         1.00\n",
        "==============================================================================\n",
        "\"\"\""
       ]
      }
     ],
     "prompt_number": 35
    },
    {
     "cell_type": "code",
     "collapsed": false,
     "input": [],
     "language": "python",
     "metadata": {},
     "outputs": []
    }
   ],
   "metadata": {}
  }
 ]
}