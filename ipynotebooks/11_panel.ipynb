{
 "metadata": {
  "name": "",
  "signature": "sha256:6ec6411543f6bb7c2d9ac030a8bb33a65907502e7d2a8e9334de5e9426d8d076"
 },
 "nbformat": 3,
 "nbformat_minor": 0,
 "worksheets": [
  {
   "cells": [
    {
     "cell_type": "markdown",
     "metadata": {},
     "source": [
      "### Applying with panel\n",
      "Applying with a Panel will pass a Series to the applied function. If the applied function returns a Series, the result of the application will be a Panel. If the applied function reduces to a scalar, the result of the application will be a DataFrame."
     ]
    },
    {
     "cell_type": "code",
     "collapsed": false,
     "input": [
      "import pandas.util.testing as tm"
     ],
     "language": "python",
     "metadata": {},
     "outputs": [],
     "prompt_number": 1
    },
    {
     "cell_type": "code",
     "collapsed": false,
     "input": [
      "panel = tm.makePanel(5)"
     ],
     "language": "python",
     "metadata": {},
     "outputs": [],
     "prompt_number": 2
    },
    {
     "cell_type": "code",
     "collapsed": false,
     "input": [
      "panel"
     ],
     "language": "python",
     "metadata": {},
     "outputs": [
      {
       "metadata": {},
       "output_type": "pyout",
       "prompt_number": 3,
       "text": [
        "<class 'pandas.core.panel.Panel'>\n",
        "Dimensions: 3 (items) x 5 (major_axis) x 4 (minor_axis)\n",
        "Items axis: ItemA to ItemC\n",
        "Major_axis axis: 2000-01-03 00:00:00 to 2000-01-07 00:00:00\n",
        "Minor_axis axis: A to D"
       ]
      }
     ],
     "prompt_number": 3
    },
    {
     "cell_type": "code",
     "collapsed": false,
     "input": [
      "panel['ItemA']"
     ],
     "language": "python",
     "metadata": {},
     "outputs": [
      {
       "html": [
        "<div style=\"max-height:1000px;max-width:1500px;overflow:auto;\">\n",
        "<table border=\"1\" class=\"dataframe\">\n",
        "  <thead>\n",
        "    <tr style=\"text-align: right;\">\n",
        "      <th></th>\n",
        "      <th>A</th>\n",
        "      <th>B</th>\n",
        "      <th>C</th>\n",
        "      <th>D</th>\n",
        "    </tr>\n",
        "  </thead>\n",
        "  <tbody>\n",
        "    <tr>\n",
        "      <th>2000-01-03</th>\n",
        "      <td> 0.711456</td>\n",
        "      <td>-1.180728</td>\n",
        "      <td> 0.112869</td>\n",
        "      <td>-0.829129</td>\n",
        "    </tr>\n",
        "    <tr>\n",
        "      <th>2000-01-04</th>\n",
        "      <td> 0.369471</td>\n",
        "      <td> 0.174945</td>\n",
        "      <td> 0.967483</td>\n",
        "      <td>-1.083773</td>\n",
        "    </tr>\n",
        "    <tr>\n",
        "      <th>2000-01-05</th>\n",
        "      <td> 0.058365</td>\n",
        "      <td>-0.904170</td>\n",
        "      <td>-1.132899</td>\n",
        "      <td>-1.021561</td>\n",
        "    </tr>\n",
        "    <tr>\n",
        "      <th>2000-01-06</th>\n",
        "      <td>-0.197615</td>\n",
        "      <td> 1.012964</td>\n",
        "      <td> 0.839146</td>\n",
        "      <td> 0.411931</td>\n",
        "    </tr>\n",
        "    <tr>\n",
        "      <th>2000-01-07</th>\n",
        "      <td>-1.769591</td>\n",
        "      <td> 0.265686</td>\n",
        "      <td> 0.517476</td>\n",
        "      <td>-2.205117</td>\n",
        "    </tr>\n",
        "  </tbody>\n",
        "</table>\n",
        "<p>5 rows \u00d7 4 columns</p>\n",
        "</div>"
       ],
       "metadata": {},
       "output_type": "pyout",
       "prompt_number": 5,
       "text": [
        "                   A         B         C         D\n",
        "2000-01-03  0.711456 -1.180728  0.112869 -0.829129\n",
        "2000-01-04  0.369471  0.174945  0.967483 -1.083773\n",
        "2000-01-05  0.058365 -0.904170 -1.132899 -1.021561\n",
        "2000-01-06 -0.197615  1.012964  0.839146  0.411931\n",
        "2000-01-07 -1.769591  0.265686  0.517476 -2.205117\n",
        "\n",
        "[5 rows x 4 columns]"
       ]
      }
     ],
     "prompt_number": 5
    },
    {
     "cell_type": "code",
     "collapsed": false,
     "input": [
      "result = panel.apply(lambda x: x*2, axis='items')"
     ],
     "language": "python",
     "metadata": {},
     "outputs": [],
     "prompt_number": 7
    },
    {
     "cell_type": "code",
     "collapsed": false,
     "input": [
      "result['ItemA']"
     ],
     "language": "python",
     "metadata": {},
     "outputs": [
      {
       "html": [
        "<div style=\"max-height:1000px;max-width:1500px;overflow:auto;\">\n",
        "<table border=\"1\" class=\"dataframe\">\n",
        "  <thead>\n",
        "    <tr style=\"text-align: right;\">\n",
        "      <th></th>\n",
        "      <th>A</th>\n",
        "      <th>B</th>\n",
        "      <th>C</th>\n",
        "      <th>D</th>\n",
        "    </tr>\n",
        "  </thead>\n",
        "  <tbody>\n",
        "    <tr>\n",
        "      <th>2000-01-03</th>\n",
        "      <td> 1.422912</td>\n",
        "      <td>-2.361457</td>\n",
        "      <td> 0.225739</td>\n",
        "      <td>-1.658259</td>\n",
        "    </tr>\n",
        "    <tr>\n",
        "      <th>2000-01-04</th>\n",
        "      <td> 0.738941</td>\n",
        "      <td> 0.349890</td>\n",
        "      <td> 1.934966</td>\n",
        "      <td>-2.167547</td>\n",
        "    </tr>\n",
        "    <tr>\n",
        "      <th>2000-01-05</th>\n",
        "      <td> 0.116731</td>\n",
        "      <td>-1.808340</td>\n",
        "      <td>-2.265797</td>\n",
        "      <td>-2.043122</td>\n",
        "    </tr>\n",
        "    <tr>\n",
        "      <th>2000-01-06</th>\n",
        "      <td>-0.395230</td>\n",
        "      <td> 2.025927</td>\n",
        "      <td> 1.678291</td>\n",
        "      <td> 0.823863</td>\n",
        "    </tr>\n",
        "    <tr>\n",
        "      <th>2000-01-07</th>\n",
        "      <td>-3.539183</td>\n",
        "      <td> 0.531372</td>\n",
        "      <td> 1.034952</td>\n",
        "      <td>-4.410235</td>\n",
        "    </tr>\n",
        "  </tbody>\n",
        "</table>\n",
        "<p>5 rows \u00d7 4 columns</p>\n",
        "</div>"
       ],
       "metadata": {},
       "output_type": "pyout",
       "prompt_number": 8,
       "text": [
        "                   A         B         C         D\n",
        "2000-01-03  1.422912 -2.361457  0.225739 -1.658259\n",
        "2000-01-04  0.738941  0.349890  1.934966 -2.167547\n",
        "2000-01-05  0.116731 -1.808340 -2.265797 -2.043122\n",
        "2000-01-06 -0.395230  2.025927  1.678291  0.823863\n",
        "2000-01-07 -3.539183  0.531372  1.034952 -4.410235\n",
        "\n",
        "[5 rows x 4 columns]"
       ]
      }
     ],
     "prompt_number": 8
    },
    {
     "cell_type": "code",
     "collapsed": false,
     "input": [
      "panel.apply(lambda x: x.sum(), axis='major_axis')"
     ],
     "language": "python",
     "metadata": {},
     "outputs": [
      {
       "html": [
        "<div style=\"max-height:1000px;max-width:1500px;overflow:auto;\">\n",
        "<table border=\"1\" class=\"dataframe\">\n",
        "  <thead>\n",
        "    <tr style=\"text-align: right;\">\n",
        "      <th></th>\n",
        "      <th>ItemA</th>\n",
        "      <th>ItemB</th>\n",
        "      <th>ItemC</th>\n",
        "    </tr>\n",
        "  </thead>\n",
        "  <tbody>\n",
        "    <tr>\n",
        "      <th>A</th>\n",
        "      <td>-0.827914</td>\n",
        "      <td>-1.334571</td>\n",
        "      <td>-1.378888</td>\n",
        "    </tr>\n",
        "    <tr>\n",
        "      <th>B</th>\n",
        "      <td>-0.631304</td>\n",
        "      <td> 0.854245</td>\n",
        "      <td> 0.128880</td>\n",
        "    </tr>\n",
        "    <tr>\n",
        "      <th>C</th>\n",
        "      <td> 1.304075</td>\n",
        "      <td>-1.882873</td>\n",
        "      <td> 0.096244</td>\n",
        "    </tr>\n",
        "    <tr>\n",
        "      <th>D</th>\n",
        "      <td>-4.727650</td>\n",
        "      <td>-0.235269</td>\n",
        "      <td>-0.555103</td>\n",
        "    </tr>\n",
        "  </tbody>\n",
        "</table>\n",
        "<p>4 rows \u00d7 3 columns</p>\n",
        "</div>"
       ],
       "metadata": {},
       "output_type": "pyout",
       "prompt_number": 9,
       "text": [
        "      ItemA     ItemB     ItemC\n",
        "A -0.827914 -1.334571 -1.378888\n",
        "B -0.631304  0.854245  0.128880\n",
        "C  1.304075 -1.882873  0.096244\n",
        "D -4.727650 -0.235269 -0.555103\n",
        "\n",
        "[4 rows x 3 columns]"
       ]
      }
     ],
     "prompt_number": 9
    },
    {
     "cell_type": "code",
     "collapsed": false,
     "input": [],
     "language": "python",
     "metadata": {},
     "outputs": []
    }
   ],
   "metadata": {}
  }
 ]
}